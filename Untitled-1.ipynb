{
 "cells": [
  {
   "cell_type": "code",
   "execution_count": 20,
   "metadata": {},
   "outputs": [],
   "source": [
    "import pandas as pd\n",
    "import json\n",
    "import spacy\n",
    "from urllib.request import urlopen\n",
    "from bs4 import BeautifulSoup\n",
    "from tqdm import tqdm\n",
    "import re\n",
    "from pytwitter import StreamApi, Api\n",
    "import twitter_credentials"
   ]
  },
  {
   "cell_type": "code",
   "execution_count": 183,
   "metadata": {},
   "outputs": [
    {
     "data": {
      "text/html": [
       "<div>\n",
       "<style scoped>\n",
       "    .dataframe tbody tr th:only-of-type {\n",
       "        vertical-align: middle;\n",
       "    }\n",
       "\n",
       "    .dataframe tbody tr th {\n",
       "        vertical-align: top;\n",
       "    }\n",
       "\n",
       "    .dataframe thead th {\n",
       "        text-align: right;\n",
       "    }\n",
       "</style>\n",
       "<table border=\"1\" class=\"dataframe\">\n",
       "  <thead>\n",
       "    <tr style=\"text-align: right;\">\n",
       "      <th></th>\n",
       "      <th>headline</th>\n",
       "      <th>clickbait</th>\n",
       "    </tr>\n",
       "  </thead>\n",
       "  <tbody>\n",
       "    <tr>\n",
       "      <th>0</th>\n",
       "      <td>Should I Get Bings</td>\n",
       "      <td>1</td>\n",
       "    </tr>\n",
       "    <tr>\n",
       "      <th>1</th>\n",
       "      <td>Which TV Female Friend Group Do You Belong In</td>\n",
       "      <td>1</td>\n",
       "    </tr>\n",
       "    <tr>\n",
       "      <th>2</th>\n",
       "      <td>The New \"Star Wars: The Force Awakens\" Trailer...</td>\n",
       "      <td>1</td>\n",
       "    </tr>\n",
       "    <tr>\n",
       "      <th>3</th>\n",
       "      <td>This Vine Of New York On \"Celebrity Big Brothe...</td>\n",
       "      <td>1</td>\n",
       "    </tr>\n",
       "    <tr>\n",
       "      <th>4</th>\n",
       "      <td>A Couple Did A Stunning Photo Shoot With Their...</td>\n",
       "      <td>1</td>\n",
       "    </tr>\n",
       "    <tr>\n",
       "      <th>...</th>\n",
       "      <td>...</td>\n",
       "      <td>...</td>\n",
       "    </tr>\n",
       "    <tr>\n",
       "      <th>19542</th>\n",
       "      <td>To Make Female Hearts Flutter in Iraq, Throw a...</td>\n",
       "      <td>0</td>\n",
       "    </tr>\n",
       "    <tr>\n",
       "      <th>19543</th>\n",
       "      <td>British Liberal Democrat Patsy Calton, 56, die...</td>\n",
       "      <td>0</td>\n",
       "    </tr>\n",
       "    <tr>\n",
       "      <th>19544</th>\n",
       "      <td>Drone smartphone app to help heart attack vict...</td>\n",
       "      <td>0</td>\n",
       "    </tr>\n",
       "    <tr>\n",
       "      <th>19545</th>\n",
       "      <td>Netanyahu Urges Pope Benedict, in Israel, to D...</td>\n",
       "      <td>0</td>\n",
       "    </tr>\n",
       "    <tr>\n",
       "      <th>19546</th>\n",
       "      <td>Computer Makers Prepare to Stake Bigger Claim ...</td>\n",
       "      <td>0</td>\n",
       "    </tr>\n",
       "  </tbody>\n",
       "</table>\n",
       "<p>19547 rows × 2 columns</p>\n",
       "</div>"
      ],
      "text/plain": [
       "                                                headline  clickbait\n",
       "0                                     Should I Get Bings          1\n",
       "1          Which TV Female Friend Group Do You Belong In          1\n",
       "2      The New \"Star Wars: The Force Awakens\" Trailer...          1\n",
       "3      This Vine Of New York On \"Celebrity Big Brothe...          1\n",
       "4      A Couple Did A Stunning Photo Shoot With Their...          1\n",
       "...                                                  ...        ...\n",
       "19542  To Make Female Hearts Flutter in Iraq, Throw a...          0\n",
       "19543  British Liberal Democrat Patsy Calton, 56, die...          0\n",
       "19544  Drone smartphone app to help heart attack vict...          0\n",
       "19545  Netanyahu Urges Pope Benedict, in Israel, to D...          0\n",
       "19546  Computer Makers Prepare to Stake Bigger Claim ...          0\n",
       "\n",
       "[19547 rows x 2 columns]"
      ]
     },
     "execution_count": 183,
     "metadata": {},
     "output_type": "execute_result"
    }
   ],
   "source": [
    "df = pd.read_csv(\"clickbait_data.csv\")\n",
    "df"
   ]
  },
  {
   "cell_type": "code",
   "execution_count": 184,
   "metadata": {},
   "outputs": [],
   "source": [
    "df.sample(frac=1).to_csv(\"shuffled_data.csv\", index=False)"
   ]
  },
  {
   "cell_type": "code",
   "execution_count": 129,
   "metadata": {},
   "outputs": [
    {
     "name": "stdout",
     "output_type": "stream",
     "text": [
      "Authorization URL: https://api.twitter.com/oauth/authorize?oauth_token=439lCAAAAAABj7NtAAABhMwK2Tk\n",
      "ACCESS_KEY = \"1598112318436438017-aIV9WAumrGoz89zvDr7CggZULc7rh8\"\n",
      "ACCESS_SECRET = \"Se5HHVPTJHRlLSGvWSJ0jaMlHLaAYCne6SWopjJk87J67\"\n",
      "Name: Clickbait Checker\n"
     ]
    }
   ],
   "source": [
    "import tweepy\n",
    "\n",
    "# api credentials \n",
    "auth = tweepy.OAuthHandler(\"KKjvPEcWgx2nS0dP7HhLbi0Ey\", \"IbsO62xgMHmXNCJvwTCvK4axVej3L1Wz8hdVeippb4XEnqfxBJ\",callback=\"oob\")\n",
    "\n",
    "# get access token from the user and redirect to auth URL\n",
    "auth_url = auth.get_authorization_url()\n",
    "print('Authorization URL: ' + auth_url)\n",
    "\n",
    "# ask user to verify the PIN generated in broswer\n",
    "verifier = input('PIN: ').strip()\n",
    "auth.get_access_token(verifier)\n",
    "print('ACCESS_KEY = \"%s\"' % auth.access_token)\n",
    "print('ACCESS_SECRET = \"%s\"' % auth.access_token_secret)\n",
    "\n",
    "# authenticate and retrieve user name\n",
    "auth.set_access_token(auth.access_token, auth.access_token_secret)\n",
    "api = tweepy.API(auth)\n",
    "user = api.verify_credentials()\n",
    "print('Name: ' + str(user.name))"
   ]
  },
  {
   "cell_type": "code",
   "execution_count": null,
   "metadata": {},
   "outputs": [],
   "source": [
    "RFd4V29sMkljVGxMZVg1VnlYRzA6MTpjaQ\n",
    "lLLhe9sIVNGSNgsW_qe2X3CEmrR7eR15Za4-xmFu6SEKX4WnFI"
   ]
  },
  {
   "cell_type": "code",
   "execution_count": 136,
   "metadata": {},
   "outputs": [],
   "source": [
    "api = Api(\n",
    "    consumer_key=\"rh6mo6DhMPCpIEhyhKTAbd4LC\",\n",
    "    consumer_secret=\"ZYiVbpce4dnNgA1XOwG2ejFStmyoGONE7iRLvvOcCD6mKvwQsn\",\n",
    "    access_token=\"1598112318436438017-aIV9WAumrGoz89zvDr7CggZULc7rh8\",\n",
    "    access_secret=\"Se5HHVPTJHRlLSGvWSJ0jaMlHLaAYCne6SWopjJk87J67\"\n",
    ")"
   ]
  },
  {
   "cell_type": "code",
   "execution_count": 121,
   "metadata": {},
   "outputs": [],
   "source": [
    "authorization_url, code_verifier, state = api.get_oauth2_authorize_url()"
   ]
  },
  {
   "cell_type": "code",
   "execution_count": 122,
   "metadata": {},
   "outputs": [
    {
     "data": {
      "text/plain": [
       "'https://twitter.com/i/oauth2/authorize?response_type=code&client_id=RFd4V29sMkljVGxMZVg1VnlYRzA6MTpjaQ&redirect_uri=https%3A%2F%2Flocalhost%2F&scope=users.read+tweet.read&state=y96wAPXqb0G0yyJhWdZbqILT2ulsmX&code_challenge=JrNQbiGbeb9Sq378CaQyOfze3ilpq4XANiAsjyrOJxI&code_challenge_method=S256'"
      ]
     },
     "execution_count": 122,
     "metadata": {},
     "output_type": "execute_result"
    }
   ],
   "source": [
    "authorization_url"
   ]
  },
  {
   "cell_type": "code",
   "execution_count": 123,
   "metadata": {},
   "outputs": [
    {
     "ename": "PyTwitterError",
     "evalue": "{'message': 'OAuth need your app credentials'}",
     "output_type": "error",
     "traceback": [
      "\u001b[0;31m---------------------------------------------------------------------------\u001b[0m",
      "\u001b[0;31mPyTwitterError\u001b[0m                            Traceback (most recent call last)",
      "\u001b[0;32m/var/folders/xg/2jx4h1913bx28fptfgb7xjx00000gn/T/ipykernel_1855/3030794974.py\u001b[0m in \u001b[0;36m<module>\u001b[0;34m\u001b[0m\n\u001b[0;32m----> 1\u001b[0;31m \u001b[0mapi\u001b[0m\u001b[0;34m.\u001b[0m\u001b[0mget_authorize_url\u001b[0m\u001b[0;34m(\u001b[0m\u001b[0;34m)\u001b[0m\u001b[0;34m\u001b[0m\u001b[0;34m\u001b[0m\u001b[0m\n\u001b[0m",
      "\u001b[0;32m~/opt/anaconda3/envs/lign167/lib/python3.7/site-packages/pytwitter/api.py\u001b[0m in \u001b[0;36mget_authorize_url\u001b[0;34m(self, callback_uri, **kwargs)\u001b[0m\n\u001b[1;32m    209\u001b[0m         \u001b[0;34m:\u001b[0m\u001b[0;32mreturn\u001b[0m\u001b[0;34m:\u001b[0m \u001b[0mlink\u001b[0m \u001b[0mto\u001b[0m \u001b[0mauthorize\u001b[0m\u001b[0;34m\u001b[0m\u001b[0;34m\u001b[0m\u001b[0m\n\u001b[1;32m    210\u001b[0m         \"\"\"\n\u001b[0;32m--> 211\u001b[0;31m         \u001b[0msession\u001b[0m \u001b[0;34m=\u001b[0m \u001b[0mself\u001b[0m\u001b[0;34m.\u001b[0m\u001b[0m_get_oauth1_session\u001b[0m\u001b[0;34m(\u001b[0m\u001b[0mcallback_uri\u001b[0m\u001b[0;34m=\u001b[0m\u001b[0mcallback_uri\u001b[0m\u001b[0;34m,\u001b[0m \u001b[0;34m**\u001b[0m\u001b[0mkwargs\u001b[0m\u001b[0;34m)\u001b[0m\u001b[0;34m\u001b[0m\u001b[0;34m\u001b[0m\u001b[0m\n\u001b[0m\u001b[1;32m    212\u001b[0m         \u001b[0msession\u001b[0m\u001b[0;34m.\u001b[0m\u001b[0mfetch_request_token\u001b[0m\u001b[0;34m(\u001b[0m\u001b[0mself\u001b[0m\u001b[0;34m.\u001b[0m\u001b[0mBASE_REQUEST_TOKEN_URL\u001b[0m\u001b[0;34m,\u001b[0m \u001b[0mproxies\u001b[0m\u001b[0;34m=\u001b[0m\u001b[0mself\u001b[0m\u001b[0;34m.\u001b[0m\u001b[0mproxies\u001b[0m\u001b[0;34m)\u001b[0m\u001b[0;34m\u001b[0m\u001b[0;34m\u001b[0m\u001b[0m\n\u001b[1;32m    213\u001b[0m         \u001b[0;32mreturn\u001b[0m \u001b[0msession\u001b[0m\u001b[0;34m.\u001b[0m\u001b[0mcreate_authorization_url\u001b[0m\u001b[0;34m(\u001b[0m\u001b[0mself\u001b[0m\u001b[0;34m.\u001b[0m\u001b[0mBASE_AUTHORIZE_URL\u001b[0m\u001b[0;34m,\u001b[0m \u001b[0;34m**\u001b[0m\u001b[0mkwargs\u001b[0m\u001b[0;34m)\u001b[0m\u001b[0;34m\u001b[0m\u001b[0;34m\u001b[0m\u001b[0m\n",
      "\u001b[0;32m~/opt/anaconda3/envs/lign167/lib/python3.7/site-packages/pytwitter/api.py\u001b[0m in \u001b[0;36m_get_oauth1_session\u001b[0;34m(self, callback_uri, **kwargs)\u001b[0m\n\u001b[1;32m    189\u001b[0m         \u001b[0;31m# check app credentials\u001b[0m\u001b[0;34m\u001b[0m\u001b[0;34m\u001b[0m\u001b[0;34m\u001b[0m\u001b[0m\n\u001b[1;32m    190\u001b[0m         \u001b[0;32mif\u001b[0m \u001b[0;32mnot\u001b[0m \u001b[0;34m(\u001b[0m\u001b[0mself\u001b[0m\u001b[0;34m.\u001b[0m\u001b[0mconsumer_key\u001b[0m \u001b[0;32mand\u001b[0m \u001b[0mself\u001b[0m\u001b[0;34m.\u001b[0m\u001b[0mconsumer_secret\u001b[0m\u001b[0;34m)\u001b[0m\u001b[0;34m:\u001b[0m\u001b[0;34m\u001b[0m\u001b[0;34m\u001b[0m\u001b[0m\n\u001b[0;32m--> 191\u001b[0;31m             \u001b[0;32mraise\u001b[0m \u001b[0mPyTwitterError\u001b[0m\u001b[0;34m(\u001b[0m\u001b[0;34m{\u001b[0m\u001b[0;34m\"message\"\u001b[0m\u001b[0;34m:\u001b[0m \u001b[0;34m\"OAuth need your app credentials\"\u001b[0m\u001b[0;34m}\u001b[0m\u001b[0;34m)\u001b[0m\u001b[0;34m\u001b[0m\u001b[0;34m\u001b[0m\u001b[0m\n\u001b[0m\u001b[1;32m    192\u001b[0m \u001b[0;34m\u001b[0m\u001b[0m\n\u001b[1;32m    193\u001b[0m         \u001b[0;32mif\u001b[0m \u001b[0mcallback_uri\u001b[0m \u001b[0;32mis\u001b[0m \u001b[0;32mNone\u001b[0m\u001b[0;34m:\u001b[0m\u001b[0;34m\u001b[0m\u001b[0;34m\u001b[0m\u001b[0m\n",
      "\u001b[0;31mPyTwitterError\u001b[0m: {'message': 'OAuth need your app credentials'}"
     ]
    }
   ],
   "source": [
    "api.get_authorize_url()"
   ]
  },
  {
   "cell_type": "code",
   "execution_count": 108,
   "metadata": {},
   "outputs": [
    {
     "ename": "OAuthError",
     "evalue": "fetch_token_denied: Token request failed with code 401, response was 'Error processing your OAuth request: Invalid oauth_verifier parameter'.",
     "output_type": "error",
     "traceback": [
      "\u001b[0;31m---------------------------------------------------------------------------\u001b[0m",
      "\u001b[0;31mOAuthError\u001b[0m                                Traceback (most recent call last)",
      "\u001b[0;32m/var/folders/xg/2jx4h1913bx28fptfgb7xjx00000gn/T/ipykernel_1855/913946119.py\u001b[0m in \u001b[0;36m<module>\u001b[0;34m\u001b[0m\n\u001b[0;32m----> 1\u001b[0;31m \u001b[0mapi\u001b[0m\u001b[0;34m.\u001b[0m\u001b[0mgenerate_access_token\u001b[0m\u001b[0;34m(\u001b[0m\u001b[0;34m\"https://localhost/?oauth_token=d1Q93AAAAAABdWoIAAABhMvnV-I&oauth_verifier=oauth_verifier\"\u001b[0m\u001b[0;34m)\u001b[0m\u001b[0;34m\u001b[0m\u001b[0;34m\u001b[0m\u001b[0m\n\u001b[0m",
      "\u001b[0;32m~/opt/anaconda3/envs/lign167/lib/python3.7/site-packages/pytwitter/api.py\u001b[0m in \u001b[0;36mgenerate_access_token\u001b[0;34m(self, response, callback_uri, **kwargs)\u001b[0m\n\u001b[1;32m    226\u001b[0m \u001b[0;34m\u001b[0m\u001b[0m\n\u001b[1;32m    227\u001b[0m         data = session.fetch_access_token(\n\u001b[0;32m--> 228\u001b[0;31m             \u001b[0mself\u001b[0m\u001b[0;34m.\u001b[0m\u001b[0mBASE_ACCESS_TOKEN_URL\u001b[0m\u001b[0;34m,\u001b[0m \u001b[0mproxies\u001b[0m\u001b[0;34m=\u001b[0m\u001b[0mself\u001b[0m\u001b[0;34m.\u001b[0m\u001b[0mproxies\u001b[0m\u001b[0;34m\u001b[0m\u001b[0;34m\u001b[0m\u001b[0m\n\u001b[0m\u001b[1;32m    229\u001b[0m         )\n\u001b[1;32m    230\u001b[0m         self._auth = OAuth1Auth(\n",
      "\u001b[0;32m~/opt/anaconda3/envs/lign167/lib/python3.7/site-packages/authlib/oauth1/client.py\u001b[0m in \u001b[0;36mfetch_access_token\u001b[0;34m(self, url, verifier, **kwargs)\u001b[0m\n\u001b[1;32m    140\u001b[0m         \u001b[0;32mif\u001b[0m \u001b[0;32mnot\u001b[0m \u001b[0mself\u001b[0m\u001b[0;34m.\u001b[0m\u001b[0mauth\u001b[0m\u001b[0;34m.\u001b[0m\u001b[0mverifier\u001b[0m\u001b[0;34m:\u001b[0m\u001b[0;34m\u001b[0m\u001b[0;34m\u001b[0m\u001b[0m\n\u001b[1;32m    141\u001b[0m             \u001b[0mself\u001b[0m\u001b[0;34m.\u001b[0m\u001b[0mhandle_error\u001b[0m\u001b[0;34m(\u001b[0m\u001b[0;34m'missing_verifier'\u001b[0m\u001b[0;34m,\u001b[0m \u001b[0;34m'Missing \"verifier\" value'\u001b[0m\u001b[0;34m)\u001b[0m\u001b[0;34m\u001b[0m\u001b[0;34m\u001b[0m\u001b[0m\n\u001b[0;32m--> 142\u001b[0;31m         \u001b[0;32mreturn\u001b[0m \u001b[0mself\u001b[0m\u001b[0;34m.\u001b[0m\u001b[0m_fetch_token\u001b[0m\u001b[0;34m(\u001b[0m\u001b[0murl\u001b[0m\u001b[0;34m,\u001b[0m \u001b[0;34m**\u001b[0m\u001b[0mkwargs\u001b[0m\u001b[0;34m)\u001b[0m\u001b[0;34m\u001b[0m\u001b[0;34m\u001b[0m\u001b[0m\n\u001b[0m\u001b[1;32m    143\u001b[0m \u001b[0;34m\u001b[0m\u001b[0m\n\u001b[1;32m    144\u001b[0m     \u001b[0;32mdef\u001b[0m \u001b[0mparse_authorization_response\u001b[0m\u001b[0;34m(\u001b[0m\u001b[0mself\u001b[0m\u001b[0;34m,\u001b[0m \u001b[0murl\u001b[0m\u001b[0;34m)\u001b[0m\u001b[0;34m:\u001b[0m\u001b[0;34m\u001b[0m\u001b[0;34m\u001b[0m\u001b[0m\n",
      "\u001b[0;32m~/opt/anaconda3/envs/lign167/lib/python3.7/site-packages/authlib/oauth1/client.py\u001b[0m in \u001b[0;36m_fetch_token\u001b[0;34m(self, url, **kwargs)\u001b[0m\n\u001b[1;32m    156\u001b[0m     \u001b[0;32mdef\u001b[0m \u001b[0m_fetch_token\u001b[0m\u001b[0;34m(\u001b[0m\u001b[0mself\u001b[0m\u001b[0;34m,\u001b[0m \u001b[0murl\u001b[0m\u001b[0;34m,\u001b[0m \u001b[0;34m**\u001b[0m\u001b[0mkwargs\u001b[0m\u001b[0;34m)\u001b[0m\u001b[0;34m:\u001b[0m\u001b[0;34m\u001b[0m\u001b[0;34m\u001b[0m\u001b[0m\n\u001b[1;32m    157\u001b[0m         \u001b[0mresp\u001b[0m \u001b[0;34m=\u001b[0m \u001b[0mself\u001b[0m\u001b[0;34m.\u001b[0m\u001b[0msession\u001b[0m\u001b[0;34m.\u001b[0m\u001b[0mpost\u001b[0m\u001b[0;34m(\u001b[0m\u001b[0murl\u001b[0m\u001b[0;34m,\u001b[0m \u001b[0mauth\u001b[0m\u001b[0;34m=\u001b[0m\u001b[0mself\u001b[0m\u001b[0;34m.\u001b[0m\u001b[0mauth\u001b[0m\u001b[0;34m,\u001b[0m \u001b[0;34m**\u001b[0m\u001b[0mkwargs\u001b[0m\u001b[0;34m)\u001b[0m\u001b[0;34m\u001b[0m\u001b[0;34m\u001b[0m\u001b[0m\n\u001b[0;32m--> 158\u001b[0;31m         \u001b[0mtoken\u001b[0m \u001b[0;34m=\u001b[0m \u001b[0mself\u001b[0m\u001b[0;34m.\u001b[0m\u001b[0mparse_response_token\u001b[0m\u001b[0;34m(\u001b[0m\u001b[0mresp\u001b[0m\u001b[0;34m.\u001b[0m\u001b[0mstatus_code\u001b[0m\u001b[0;34m,\u001b[0m \u001b[0mresp\u001b[0m\u001b[0;34m.\u001b[0m\u001b[0mtext\u001b[0m\u001b[0;34m)\u001b[0m\u001b[0;34m\u001b[0m\u001b[0;34m\u001b[0m\u001b[0m\n\u001b[0m\u001b[1;32m    159\u001b[0m         \u001b[0mself\u001b[0m\u001b[0;34m.\u001b[0m\u001b[0mtoken\u001b[0m \u001b[0;34m=\u001b[0m \u001b[0mtoken\u001b[0m\u001b[0;34m\u001b[0m\u001b[0;34m\u001b[0m\u001b[0m\n\u001b[1;32m    160\u001b[0m         \u001b[0mself\u001b[0m\u001b[0;34m.\u001b[0m\u001b[0mauth\u001b[0m\u001b[0;34m.\u001b[0m\u001b[0mverifier\u001b[0m \u001b[0;34m=\u001b[0m \u001b[0;32mNone\u001b[0m\u001b[0;34m\u001b[0m\u001b[0;34m\u001b[0m\u001b[0m\n",
      "\u001b[0;32m~/opt/anaconda3/envs/lign167/lib/python3.7/site-packages/authlib/oauth1/client.py\u001b[0m in \u001b[0;36mparse_response_token\u001b[0;34m(self, status_code, text)\u001b[0m\n\u001b[1;32m    167\u001b[0m                 \u001b[0;34m\"response was '{}'.\"\u001b[0m\u001b[0;34m\u001b[0m\u001b[0;34m\u001b[0m\u001b[0m\n\u001b[1;32m    168\u001b[0m             ).format(status_code, text)\n\u001b[0;32m--> 169\u001b[0;31m             \u001b[0mself\u001b[0m\u001b[0;34m.\u001b[0m\u001b[0mhandle_error\u001b[0m\u001b[0;34m(\u001b[0m\u001b[0;34m'fetch_token_denied'\u001b[0m\u001b[0;34m,\u001b[0m \u001b[0mmessage\u001b[0m\u001b[0;34m)\u001b[0m\u001b[0;34m\u001b[0m\u001b[0;34m\u001b[0m\u001b[0m\n\u001b[0m\u001b[1;32m    170\u001b[0m \u001b[0;34m\u001b[0m\u001b[0m\n\u001b[1;32m    171\u001b[0m         \u001b[0;32mtry\u001b[0m\u001b[0;34m:\u001b[0m\u001b[0;34m\u001b[0m\u001b[0;34m\u001b[0m\u001b[0m\n",
      "\u001b[0;32m~/opt/anaconda3/envs/lign167/lib/python3.7/site-packages/authlib/integrations/requests_client/oauth1_session.py\u001b[0m in \u001b[0;36mhandle_error\u001b[0;34m(error_type, error_description)\u001b[0m\n\u001b[1;32m     56\u001b[0m     \u001b[0;34m@\u001b[0m\u001b[0mstaticmethod\u001b[0m\u001b[0;34m\u001b[0m\u001b[0;34m\u001b[0m\u001b[0m\n\u001b[1;32m     57\u001b[0m     \u001b[0;32mdef\u001b[0m \u001b[0mhandle_error\u001b[0m\u001b[0;34m(\u001b[0m\u001b[0merror_type\u001b[0m\u001b[0;34m,\u001b[0m \u001b[0merror_description\u001b[0m\u001b[0;34m)\u001b[0m\u001b[0;34m:\u001b[0m\u001b[0;34m\u001b[0m\u001b[0;34m\u001b[0m\u001b[0m\n\u001b[0;32m---> 58\u001b[0;31m         \u001b[0;32mraise\u001b[0m \u001b[0mOAuthError\u001b[0m\u001b[0;34m(\u001b[0m\u001b[0merror_type\u001b[0m\u001b[0;34m,\u001b[0m \u001b[0merror_description\u001b[0m\u001b[0;34m)\u001b[0m\u001b[0;34m\u001b[0m\u001b[0;34m\u001b[0m\u001b[0m\n\u001b[0m",
      "\u001b[0;31mOAuthError\u001b[0m: fetch_token_denied: Token request failed with code 401, response was 'Error processing your OAuth request: Invalid oauth_verifier parameter'."
     ]
    }
   ],
   "source": [
    "api.generate_access_token(\"https://localhost/?oauth_token=d1Q93AAAAAABdWoIAAABhMvnV-I&oauth_verifier=oauth_verifier\")"
   ]
  },
  {
   "cell_type": "code",
   "execution_count": 124,
   "metadata": {},
   "outputs": [
    {
     "ename": "TypeError",
     "evalue": "generate_oauth2_access_token() got an unexpected keyword argument 'authorization_url'",
     "output_type": "error",
     "traceback": [
      "\u001b[0;31m---------------------------------------------------------------------------\u001b[0m",
      "\u001b[0;31mTypeError\u001b[0m                                 Traceback (most recent call last)",
      "\u001b[0;32m/var/folders/xg/2jx4h1913bx28fptfgb7xjx00000gn/T/ipykernel_1855/1672384245.py\u001b[0m in \u001b[0;36m<module>\u001b[0;34m\u001b[0m\n\u001b[0;32m----> 1\u001b[0;31m \u001b[0mapi\u001b[0m\u001b[0;34m.\u001b[0m\u001b[0mgenerate_oauth2_access_token\u001b[0m\u001b[0;34m(\u001b[0m\u001b[0mauthorization_url\u001b[0m\u001b[0;34m=\u001b[0m\u001b[0mauthorization_url\u001b[0m\u001b[0;34m,\u001b[0m \u001b[0mresponse\u001b[0m\u001b[0;34m=\u001b[0m\u001b[0;34m\"https://localhost/?state=state&code=code\"\u001b[0m\u001b[0;34m,\u001b[0m \u001b[0mcode_verifier\u001b[0m\u001b[0;34m=\u001b[0m\u001b[0mcode_verifier\u001b[0m\u001b[0;34m)\u001b[0m\u001b[0;34m\u001b[0m\u001b[0;34m\u001b[0m\u001b[0m\n\u001b[0m",
      "\u001b[0;31mTypeError\u001b[0m: generate_oauth2_access_token() got an unexpected keyword argument 'authorization_url'"
     ]
    }
   ],
   "source": [
    "api.generate_oauth2_access_token(authorization_url=authorization_url, response=\"https://localhost/?state=state&code=code\", code_verifier=code_verifier)"
   ]
  },
  {
   "cell_type": "code",
   "execution_count": null,
   "metadata": {},
   "outputs": [],
   "source": [
    "api.get_oauth2_authorize_url"
   ]
  },
  {
   "cell_type": "code",
   "execution_count": 89,
   "metadata": {},
   "outputs": [
    {
     "data": {
      "text/plain": [
       "'https://twitter.com/i/oauth2/authorize?response_type=code&client_id=RFd4V29sMkljVGxMZVg1VnlYRzA6MTpjaQ&redirect_uri=https%3A%2F%2Flocalhost%2F&scope=users.read+tweet.read&state=vchdbjGxTFvNLoNiSsM5xEHNUrPlCE&code_challenge=-AtmREzHqZjRxL3sJeDHvSvE7odJ0qpJTfeXQPKgW_c&code_challenge_method=S256'"
      ]
     },
     "execution_count": 89,
     "metadata": {},
     "output_type": "execute_result"
    }
   ],
   "source": [
    "authorization_url"
   ]
  },
  {
   "cell_type": "code",
   "execution_count": 150,
   "metadata": {},
   "outputs": [
    {
     "data": {
      "text/plain": [
       "Tweet(id=1598204105238859778, text=@__dylantweets @CNN Hey)"
      ]
     },
     "execution_count": 150,
     "metadata": {},
     "output_type": "execute_result"
    }
   ],
   "source": [
    "api.create_tweet(text=\"Hey\", reply_in_reply_to_tweet_id=\"1598126992951775232\", reply_exclude_reply_user_ids=[])"
   ]
  },
  {
   "cell_type": "code",
   "execution_count": 45,
   "metadata": {},
   "outputs": [
    {
     "data": {
      "text/plain": [
       "'@CNN @Clickbait_Check @Clickbait_Check'"
      ]
     },
     "execution_count": 45,
     "metadata": {},
     "output_type": "execute_result"
    }
   ],
   "source": [
    "x = api.get_tweet('1598126992951775232', tweet_fields=\"conversation_id\")\n",
    "x.data.text"
   ]
  },
  {
   "cell_type": "code",
   "execution_count": null,
   "metadata": {},
   "outputs": [],
   "source": [
    "page = urlopen(\"https://www.cnn.com/2022/11/25/us/real-or-artificial-christmas-tree-climate/index.html?utm_content=2022-11-29T05%3A30%3A05&utm_term=link&utm_medium=social&utm_source=twCNN\")\n",
    "soup = BeautifulSoup(page, \"html.parser\")\n",
    "print(soup.find(\"div\", attrs={\"class\": \"article__content\"}).get_text())"
   ]
  },
  {
   "cell_type": "code",
   "execution_count": 12,
   "metadata": {},
   "outputs": [
    {
     "name": "stdout",
     "output_type": "stream",
     "text": [
      "0.6406611201872947\n"
     ]
    }
   ],
   "source": [
    "nlp = spacy.load('en_core_web_lg')\n",
    "\n",
    "search_doc = nlp(\"Exclusive: World Cup soccer fans stopped by security officials for wearing rainbow-colored items\")\n",
    "\n",
    "main_doc = nlp(\"\"\"The World Cup is well underway in Qatar, but issues surrounding LGBTQ+ rights for the Gulf state, world soccer governing body FIFA, teams and fans just won’t go away.\n",
    "\n",
    "On Saturday, two German soccer fans told CNN that they were asked by security officials at Qatar 2022 to remove the rainbow-colored items that they were wearing as they made their way to watch the World Cup match between France and Denmark on Saturday. \n",
    " CNN witnessed the conclusion to the incident at the Msheireb Metro Station, in Doha, as Bengt Kunkel, who was wearing a rainbow-colored sweatband and his friend – sporting a similarly colored armband – refused to hand over the items. The rainbow is a symbol of LGBTQ+ pride.\n",
    "\n",
    "After taking the Germans to one side, a group of security guards eventually let them go – on condition that they put the rainbow-colored items in their pockets, according to Kunkel.\n",
    "\n",
    "“Out of nowhere. They took my friend quite aggressively on the arm and pushed him away from the crowd and told him to take it [the armband] off,” Kunkel told CNN, as he recounted details of the incident shortly after it happened.\n",
    "\n",
    "“Then they took me with him. They said: ‘You’re going to take it off and throw it in the bin or we’ll call the police.’”\n",
    "\n",
    "The pair refused to throw their items in the bin and said they told security they could call the police.\n",
    "\n",
    "“We had a little discussion, we were being respectful and said: ‘We’re not going to throw it away but we’re going to put it in our pockets’,” added Kunkel, who travelled to the World Cup to enjoy the soccer tournament, but also to use his social media platform to talk about LGBTQ+ issues and Qatar 2022.\"\"\")\n",
    "\n",
    "\n",
    "search_doc_no_stop_words = nlp(' '.join([str(t) for t in search_doc if not t.is_stop]))\n",
    "main_doc_no_stop_words = nlp(' '.join([str(t) for t in main_doc if not t.is_stop]))\n",
    "\n",
    "print(search_doc_no_stop_words.similarity(main_doc_no_stop_words))"
   ]
  },
  {
   "cell_type": "code",
   "execution_count": 4,
   "metadata": {},
   "outputs": [
    {
     "data": {
      "text/plain": [
       "['One player each NFL team should be thankful for this Thanksgiving https://t.co/xxKai0nEp7',\n",
       " 'World Cup 2022: Portugal defeats Ghana 3-2, Ronaldo makes history https://t.co/bSP3Fk3190',\n",
       " 'Chesapeake, Virginia Walmart gunman had manifesto on phone: report https://t.co/tcfASpTFSf',\n",
       " 'Climate activists in Berlin glue themselves to airport runway, disrupting air travel https://t.co/TCpKlIgmyb',\n",
       " 'Arizona grandma, man she mistakenly texted, to share Thanksgiving for 7th straight year since 2016\\n\\nhttps://t.co/ikZGo36ZJv',\n",
       " \"BRIAN KILMEADE: Press mad at Biden for lying about granddaughter's wedding https://t.co/3VTmZaFRYY\",\n",
       " \"Gary Sinise shares why he's 'beyond grateful' for America's veterans: Heroes who inspire a 'brighter future' https://t.co/gEIySv88Ao\",\n",
       " 'Vaccinated Americans a majority of COVID deaths for first time in August: analysis https://t.co/xHFJDvwauT',\n",
       " 'Russia advances anti-LGBTQ, anti-gender surgery bill, cites US gender debate as justification https://t.co/e3AIAoSaRi',\n",
       " 'Two-time MVP undergoes Tommy John surgery, likely out until May: reports https://t.co/HmhdUjFcm1']"
      ]
     },
     "execution_count": 4,
     "metadata": {},
     "output_type": "execute_result"
    }
   ],
   "source": [
    "[x[\"text\"] for x in json.load(open(\"fox.json\"))[\"data\"]]"
   ]
  },
  {
   "cell_type": "code",
   "execution_count": 185,
   "metadata": {},
   "outputs": [],
   "source": [
    "import spacy# load the best model from training\n",
    "nlp = spacy.load(\"output/model-best\")"
   ]
  },
  {
   "cell_type": "code",
   "execution_count": 192,
   "metadata": {},
   "outputs": [
    {
     "data": {
      "text/plain": [
       "'clickbait'"
      ]
     },
     "execution_count": 192,
     "metadata": {},
     "output_type": "execute_result"
    }
   ],
   "source": [
    "max(nlp(\"This is certifiably the best carrot cake ever. Period.\").cats, key=nlp(\"This is certifiably the best carrot cake ever. Period.\").cats.get)"
   ]
  },
  {
   "cell_type": "code",
   "execution_count": 164,
   "metadata": {},
   "outputs": [],
   "source": [
    "test = \"Elon Musk claimed that Apple has “threatened” to pull Twitter from its iOS app store, a move that could be devastating to the company Musk just acquired for $44 billion https://t.co/pcRxHbu8i2\""
   ]
  },
  {
   "cell_type": "code",
   "execution_count": 154,
   "metadata": {},
   "outputs": [
    {
     "data": {
      "text/plain": [
       "97.24"
      ]
     },
     "execution_count": 154,
     "metadata": {},
     "output_type": "execute_result"
    }
   ],
   "source": [
    "round(97.243, 2)"
   ]
  },
  {
   "cell_type": "code",
   "execution_count": 74,
   "metadata": {},
   "outputs": [
    {
     "data": {
      "text/plain": [
       "'Elon Musk claimed that Apple has “threatened” to pull Twitter from its iOS app store, a move that could be devastating to the company Musk just acquired for $44 billion '"
      ]
     },
     "execution_count": 74,
     "metadata": {},
     "output_type": "execute_result"
    }
   ],
   "source": [
    "re.sub(\"(?:(?:https?|ftp):\\/\\/)?[\\w/\\-?=%.]+\\.[\\w/\\-&?=%.]+\", \"\", test)"
   ]
  },
  {
   "cell_type": "code",
   "execution_count": null,
   "metadata": {},
   "outputs": [],
   "source": []
  }
 ],
 "metadata": {
  "kernelspec": {
   "display_name": "Python 3.7.13 ('lign167')",
   "language": "python",
   "name": "python3"
  },
  "language_info": {
   "codemirror_mode": {
    "name": "ipython",
    "version": 3
   },
   "file_extension": ".py",
   "mimetype": "text/x-python",
   "name": "python",
   "nbconvert_exporter": "python",
   "pygments_lexer": "ipython3",
   "version": "3.7.13"
  },
  "orig_nbformat": 4,
  "vscode": {
   "interpreter": {
    "hash": "c68a658c6f5c3fcc33daf006142ca16b5223a2729ca3eb69eadc77e5d82d1b20"
   }
  }
 },
 "nbformat": 4,
 "nbformat_minor": 2
}
